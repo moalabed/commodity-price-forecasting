{
 "cells": [
  {
   "cell_type": "code",
   "execution_count": 1,
   "id": "8717ea81-a002-4e9d-944e-fb03b8bed795",
   "metadata": {},
   "outputs": [
    {
     "name": "stdout",
     "output_type": "stream",
     "text": [
      "Hello, I'm ready to forecast!\n"
     ]
    }
   ],
   "source": [
    "print(\"Hello, I'm ready to forecast!\")"
   ]
  },
  {
   "cell_type": "code",
   "execution_count": 2,
   "id": "1a4cbf34-a502-4292-8012-12bb081f73fe",
   "metadata": {
    "scrolled": true
   },
   "outputs": [
    {
     "name": "stdout",
     "output_type": "stream",
     "text": [
      "Collecting prophet\n",
      "  Downloading prophet-1.1.6-py3-none-macosx_10_11_x86_64.whl.metadata (3.5 kB)\n",
      "Collecting pandas\n",
      "  Downloading pandas-2.2.3-cp313-cp313-macosx_10_13_x86_64.whl.metadata (89 kB)\n",
      "Collecting numpy\n",
      "  Downloading numpy-2.2.3-cp313-cp313-macosx_14_0_x86_64.whl.metadata (62 kB)\n",
      "Collecting plotly\n",
      "  Downloading plotly-6.0.0-py3-none-any.whl.metadata (5.6 kB)\n",
      "Collecting cmdstanpy>=1.0.4 (from prophet)\n",
      "  Downloading cmdstanpy-1.2.5-py3-none-any.whl.metadata (4.0 kB)\n",
      "Collecting matplotlib>=2.0.0 (from prophet)\n",
      "  Downloading matplotlib-3.10.1-cp313-cp313-macosx_10_13_x86_64.whl.metadata (11 kB)\n",
      "Collecting holidays<1,>=0.25 (from prophet)\n",
      "  Downloading holidays-0.68-py3-none-any.whl.metadata (27 kB)\n",
      "Collecting tqdm>=4.36.1 (from prophet)\n",
      "  Downloading tqdm-4.67.1-py3-none-any.whl.metadata (57 kB)\n",
      "Collecting importlib-resources (from prophet)\n",
      "  Downloading importlib_resources-6.5.2-py3-none-any.whl.metadata (3.9 kB)\n",
      "Requirement already satisfied: python-dateutil>=2.8.2 in ./venv/lib/python3.13/site-packages (from pandas) (2.9.0.post0)\n",
      "Collecting pytz>=2020.1 (from pandas)\n",
      "  Downloading pytz-2025.1-py2.py3-none-any.whl.metadata (22 kB)\n",
      "Collecting tzdata>=2022.7 (from pandas)\n",
      "  Downloading tzdata-2025.1-py2.py3-none-any.whl.metadata (1.4 kB)\n",
      "Collecting narwhals>=1.15.1 (from plotly)\n",
      "  Downloading narwhals-1.29.0-py3-none-any.whl.metadata (10 kB)\n",
      "Requirement already satisfied: packaging in ./venv/lib/python3.13/site-packages (from plotly) (24.2)\n",
      "Collecting stanio<2.0.0,>=0.4.0 (from cmdstanpy>=1.0.4->prophet)\n",
      "  Downloading stanio-0.5.1-py3-none-any.whl.metadata (1.6 kB)\n",
      "Collecting contourpy>=1.0.1 (from matplotlib>=2.0.0->prophet)\n",
      "  Downloading contourpy-1.3.1-cp313-cp313-macosx_10_13_x86_64.whl.metadata (5.4 kB)\n",
      "Collecting cycler>=0.10 (from matplotlib>=2.0.0->prophet)\n",
      "  Downloading cycler-0.12.1-py3-none-any.whl.metadata (3.8 kB)\n",
      "Collecting fonttools>=4.22.0 (from matplotlib>=2.0.0->prophet)\n",
      "  Downloading fonttools-4.56.0-cp313-cp313-macosx_10_13_x86_64.whl.metadata (101 kB)\n",
      "Collecting kiwisolver>=1.3.1 (from matplotlib>=2.0.0->prophet)\n",
      "  Downloading kiwisolver-1.4.8-cp313-cp313-macosx_10_13_x86_64.whl.metadata (6.2 kB)\n",
      "Collecting pillow>=8 (from matplotlib>=2.0.0->prophet)\n",
      "  Downloading pillow-11.1.0-cp313-cp313-macosx_10_13_x86_64.whl.metadata (9.1 kB)\n",
      "Collecting pyparsing>=2.3.1 (from matplotlib>=2.0.0->prophet)\n",
      "  Downloading pyparsing-3.2.1-py3-none-any.whl.metadata (5.0 kB)\n",
      "Requirement already satisfied: six>=1.5 in ./venv/lib/python3.13/site-packages (from python-dateutil>=2.8.2->pandas) (1.17.0)\n",
      "Downloading prophet-1.1.6-py3-none-macosx_10_11_x86_64.whl (8.8 MB)\n",
      "\u001b[2K   \u001b[38;2;114;156;31m━━━━━━━━━━━━━━━━━━━━━━━━━━━━━━━━━━━━━━━━\u001b[0m \u001b[32m8.8/8.8 MB\u001b[0m \u001b[31m6.6 MB/s\u001b[0m eta \u001b[36m0:00:00\u001b[0m[31m7.4 MB/s\u001b[0m eta \u001b[36m0:00:01\u001b[0m\n",
      "Downloading pandas-2.2.3-cp313-cp313-macosx_10_13_x86_64.whl (12.5 MB)\n",
      "\u001b[2K   \u001b[38;2;114;156;31m━━━━━━━━━━━━━━━━━━━━━━━━━━━━━━━━━━━━━━━━\u001b[0m \u001b[32m12.5/12.5 MB\u001b[0m \u001b[31m5.9 MB/s\u001b[0m eta \u001b[36m0:00:00\u001b[0m[36m0:00:01\u001b[0mm eta \u001b[36m0:00:01\u001b[0m\n",
      "Downloading numpy-2.2.3-cp313-cp313-macosx_14_0_x86_64.whl (6.7 MB)\n",
      "\u001b[2K   \u001b[38;2;114;156;31m━━━━━━━━━━━━━━━━━━━━━━━━━━━━━━━━━━━━━━━━\u001b[0m \u001b[32m6.7/6.7 MB\u001b[0m \u001b[31m6.3 MB/s\u001b[0m eta \u001b[36m0:00:00\u001b[0m[36m0:00:01\u001b[0mm eta \u001b[36m0:00:01\u001b[0mm\n",
      "Downloading plotly-6.0.0-py3-none-any.whl (14.8 MB)\n",
      "\u001b[2K   \u001b[38;2;114;156;31m━━━━━━━━━━━━━━━━━━━━━━━━━━━━━━━━━━━━━━━━\u001b[0m \u001b[32m14.8/14.8 MB\u001b[0m \u001b[31m5.5 MB/s\u001b[0m eta \u001b[36m0:00:00\u001b[0mm eta \u001b[36m0:00:01\u001b[0m[36m0:00:01\u001b[0m\n",
      "Downloading cmdstanpy-1.2.5-py3-none-any.whl (94 kB)\n",
      "Downloading holidays-0.68-py3-none-any.whl (824 kB)\n",
      "\u001b[2K   \u001b[38;2;114;156;31m━━━━━━━━━━━━━━━━━━━━━━━━━━━━━━━━━━━━━━━━\u001b[0m \u001b[32m824.7/824.7 kB\u001b[0m \u001b[31m7.6 MB/s\u001b[0m eta \u001b[36m0:00:00\u001b[0m\n",
      "Downloading matplotlib-3.10.1-cp313-cp313-macosx_10_13_x86_64.whl (8.2 MB)\n",
      "\u001b[2K   \u001b[38;2;114;156;31m━━━━━━━━━━━━━━━━━━━━━━━━━━━━━━━━━━━━━━━━\u001b[0m \u001b[32m8.2/8.2 MB\u001b[0m \u001b[31m6.3 MB/s\u001b[0m eta \u001b[36m0:00:00\u001b[0mm eta \u001b[36m0:00:01\u001b[0m0:01\u001b[0m:01\u001b[0m\n",
      "Downloading narwhals-1.29.0-py3-none-any.whl (305 kB)\n",
      "Downloading pytz-2025.1-py2.py3-none-any.whl (507 kB)\n",
      "Downloading tqdm-4.67.1-py3-none-any.whl (78 kB)\n",
      "Downloading tzdata-2025.1-py2.py3-none-any.whl (346 kB)\n",
      "Downloading importlib_resources-6.5.2-py3-none-any.whl (37 kB)\n",
      "Downloading contourpy-1.3.1-cp313-cp313-macosx_10_13_x86_64.whl (271 kB)\n",
      "Downloading cycler-0.12.1-py3-none-any.whl (8.3 kB)\n",
      "Downloading fonttools-4.56.0-cp313-cp313-macosx_10_13_x86_64.whl (2.3 MB)\n",
      "\u001b[2K   \u001b[38;2;114;156;31m━━━━━━━━━━━━━━━━━━━━━━━━━━━━━━━━━━━━━━━━\u001b[0m \u001b[32m2.3/2.3 MB\u001b[0m \u001b[31m6.7 MB/s\u001b[0m eta \u001b[36m0:00:00\u001b[0m6 MB/s\u001b[0m eta \u001b[36m0:00:01\u001b[0m\n",
      "Downloading kiwisolver-1.4.8-cp313-cp313-macosx_10_13_x86_64.whl (66 kB)\n",
      "Downloading pillow-11.1.0-cp313-cp313-macosx_10_13_x86_64.whl (3.2 MB)\n",
      "\u001b[2K   \u001b[38;2;114;156;31m━━━━━━━━━━━━━━━━━━━━━━━━━━━━━━━━━━━━━━━━\u001b[0m \u001b[32m3.2/3.2 MB\u001b[0m \u001b[31m7.0 MB/s\u001b[0m eta \u001b[36m0:00:00\u001b[0m[31m7.6 MB/s\u001b[0m eta \u001b[36m0:00:01\u001b[0m\n",
      "Downloading pyparsing-3.2.1-py3-none-any.whl (107 kB)\n",
      "Downloading stanio-0.5.1-py3-none-any.whl (8.1 kB)\n",
      "Installing collected packages: pytz, tzdata, tqdm, pyparsing, pillow, numpy, narwhals, kiwisolver, importlib-resources, fonttools, cycler, stanio, plotly, pandas, holidays, contourpy, matplotlib, cmdstanpy, prophet\n",
      "Successfully installed cmdstanpy-1.2.5 contourpy-1.3.1 cycler-0.12.1 fonttools-4.56.0 holidays-0.68 importlib-resources-6.5.2 kiwisolver-1.4.8 matplotlib-3.10.1 narwhals-1.29.0 numpy-2.2.3 pandas-2.2.3 pillow-11.1.0 plotly-6.0.0 prophet-1.1.6 pyparsing-3.2.1 pytz-2025.1 stanio-0.5.1 tqdm-4.67.1 tzdata-2025.1\n",
      "\n",
      "\u001b[1m[\u001b[0m\u001b[34;49mnotice\u001b[0m\u001b[1;39;49m]\u001b[0m\u001b[39;49m A new release of pip is available: \u001b[0m\u001b[31;49m25.0\u001b[0m\u001b[39;49m -> \u001b[0m\u001b[32;49m25.0.1\u001b[0m\n",
      "\u001b[1m[\u001b[0m\u001b[34;49mnotice\u001b[0m\u001b[1;39;49m]\u001b[0m\u001b[39;49m To update, run: \u001b[0m\u001b[32;49mpip install --upgrade pip\u001b[0m\n"
     ]
    }
   ],
   "source": [
    "!pip install prophet pandas numpy plotly"
   ]
  },
  {
   "cell_type": "code",
   "execution_count": 9,
   "id": "e00b6dfe-d63c-4c15-803e-2efbe897e7c1",
   "metadata": {
    "scrolled": true
   },
   "outputs": [
    {
     "name": "stdout",
     "output_type": "stream",
     "text": [
      "Requirement already satisfied: matplotlib in ./venv/lib/python3.13/site-packages (3.10.1)\n",
      "Requirement already satisfied: requests in ./venv/lib/python3.13/site-packages (2.32.3)\n",
      "Requirement already satisfied: contourpy>=1.0.1 in ./venv/lib/python3.13/site-packages (from matplotlib) (1.3.1)\n",
      "Requirement already satisfied: cycler>=0.10 in ./venv/lib/python3.13/site-packages (from matplotlib) (0.12.1)\n",
      "Requirement already satisfied: fonttools>=4.22.0 in ./venv/lib/python3.13/site-packages (from matplotlib) (4.56.0)\n",
      "Requirement already satisfied: kiwisolver>=1.3.1 in ./venv/lib/python3.13/site-packages (from matplotlib) (1.4.8)\n",
      "Requirement already satisfied: numpy>=1.23 in ./venv/lib/python3.13/site-packages (from matplotlib) (2.2.3)\n",
      "Requirement already satisfied: packaging>=20.0 in ./venv/lib/python3.13/site-packages (from matplotlib) (24.2)\n",
      "Requirement already satisfied: pillow>=8 in ./venv/lib/python3.13/site-packages (from matplotlib) (11.1.0)\n",
      "Requirement already satisfied: pyparsing>=2.3.1 in ./venv/lib/python3.13/site-packages (from matplotlib) (3.2.1)\n",
      "Requirement already satisfied: python-dateutil>=2.7 in ./venv/lib/python3.13/site-packages (from matplotlib) (2.9.0.post0)\n",
      "Requirement already satisfied: charset-normalizer<4,>=2 in ./venv/lib/python3.13/site-packages (from requests) (3.4.1)\n",
      "Requirement already satisfied: idna<4,>=2.5 in ./venv/lib/python3.13/site-packages (from requests) (3.10)\n",
      "Requirement already satisfied: urllib3<3,>=1.21.1 in ./venv/lib/python3.13/site-packages (from requests) (2.3.0)\n",
      "Requirement already satisfied: certifi>=2017.4.17 in ./venv/lib/python3.13/site-packages (from requests) (2025.1.31)\n",
      "Requirement already satisfied: six>=1.5 in ./venv/lib/python3.13/site-packages (from python-dateutil>=2.7->matplotlib) (1.17.0)\n",
      "\n",
      "\u001b[1m[\u001b[0m\u001b[34;49mnotice\u001b[0m\u001b[1;39;49m]\u001b[0m\u001b[39;49m A new release of pip is available: \u001b[0m\u001b[31;49m25.0\u001b[0m\u001b[39;49m -> \u001b[0m\u001b[32;49m25.0.1\u001b[0m\n",
      "\u001b[1m[\u001b[0m\u001b[34;49mnotice\u001b[0m\u001b[1;39;49m]\u001b[0m\u001b[39;49m To update, run: \u001b[0m\u001b[32;49mpip install --upgrade pip\u001b[0m\n"
     ]
    }
   ],
   "source": [
    "!pip install matplotlib requests"
   ]
  },
  {
   "cell_type": "code",
   "execution_count": 13,
   "id": "2e3dbbef-dbd7-434c-8916-84e89961ef4d",
   "metadata": {},
   "outputs": [
    {
     "name": "stdout",
     "output_type": "stream",
     "text": [
      "Setting up environment for commodity price forecasting...\n"
     ]
    }
   ],
   "source": [
    "# 2. Import necessary libraries\n",
    "import pandas as pd\n",
    "import numpy as np\n",
    "import matplotlib.pyplot as plt\n",
    "from prophet import Prophet\n",
    "import requests\n",
    "from datetime import datetime, timedelta\n",
    "import json\n",
    "\n",
    "# 3. Basic setup\n",
    "print(\"Setting up environment for commodity price forecasting...\")\n",
    "\n",
    "# 4. Initialize Prophet\n",
    "def instantiate_prophet():\n",
    "    \"\"\"\n",
    "    Instantiate and return a Prophet model with default parameters\n",
    "    \"\"\"\n",
    "    # Create a Prophet model\n",
    "    model = Prophet(\n",
    "        # Default settings\n",
    "        yearly_seasonality=True,\n",
    "        weekly_seasonality=True,\n",
    "        daily_seasonality=False,\n",
    "        # Change point settings\n",
    "        changepoint_prior_scale=0.05,  # Flexibility of the trend\n",
    "        # Uncertainty intervals\n",
    "        interval_width=0.95  # 95% confidence interval\n",
    "    )\n",
    "    \n",
    "    print(\"Prophet model successfully instantiated\")\n",
    "    return model"
   ]
  },
  {
   "cell_type": "code",
   "execution_count": 11,
   "id": "d90dd227-ae2d-45d3-82e1-ee4ed9d08728",
   "metadata": {},
   "outputs": [],
   "source": [
    "# 5. Create a function to fetch historical data\n",
    "# This is a placeholder function - you'll need to adapt it to use API Ninja\n",
    "def get_historical_data(commodity=\"gold\", days=365):\n",
    "    \"\"\"\n",
    "    Placeholder function to get historical data for a commodity\n",
    "    In a real implementation, you would use API Ninja as mentioned in the agenda\n",
    "    \n",
    "    Args:\n",
    "        commodity: The commodity to fetch data for (default: gold)\n",
    "        days: Number of days of historical data to fetch\n",
    "    \n",
    "    Returns:\n",
    "        DataFrame with dates and prices\n",
    "    \"\"\"\n",
    "    print(f\"This would fetch {days} days of historical {commodity} price data from API Ninja\")\n",
    "    print(\"For now, we'll create some synthetic data for demonstration\")\n",
    "    \n",
    "    # Create synthetic data for demonstration\n",
    "    end_date = datetime.now()\n",
    "    start_date = end_date - timedelta(days=days)\n",
    "    date_range = pd.date_range(start=start_date, end=end_date, freq='D')\n",
    "    \n",
    "    # Generate synthetic prices with some trend and noise\n",
    "    base_price = 1800 if commodity == \"gold\" else 5000 if commodity == \"cocoa\" else 1000\n",
    "    trend = np.linspace(0, 100, len(date_range))\n",
    "    seasonality = 50 * np.sin(np.linspace(0, 4*np.pi, len(date_range)))\n",
    "    noise = np.random.normal(0, 20, len(date_range))\n",
    "    \n",
    "    prices = base_price + trend + seasonality + noise\n",
    "    \n",
    "    # Create DataFrame\n",
    "    df = pd.DataFrame({\n",
    "        'ds': date_range,  # Prophet requires this column name for dates\n",
    "        'y': prices        # Prophet requires this column name for values\n",
    "    })\n",
    "    \n",
    "    return df"
   ]
  },
  {
   "cell_type": "code",
   "execution_count": 15,
   "id": "e33581b3-21e2-4c17-a598-7ded12dfcebe",
   "metadata": {},
   "outputs": [],
   "source": [
    "### AS REQUESTED !!!"
   ]
  },
  {
   "cell_type": "code",
   "execution_count": 14,
   "id": "3c333631-9c6f-4845-9424-25c934ce973f",
   "metadata": {},
   "outputs": [
    {
     "name": "stdout",
     "output_type": "stream",
     "text": [
      "Prophet model successfully instantiated\n",
      "Model type: <class 'prophet.forecaster.Prophet'>\n"
     ]
    }
   ],
   "source": [
    "# Test the Prophet instantiation\n",
    "model = instantiate_prophet()\n",
    "print(f\"Model type: {type(model)}\")"
   ]
  }
 ],
 "metadata": {
  "kernelspec": {
   "display_name": "Python 3 (ipykernel)",
   "language": "python",
   "name": "python3"
  },
  "language_info": {
   "codemirror_mode": {
    "name": "ipython",
    "version": 3
   },
   "file_extension": ".py",
   "mimetype": "text/x-python",
   "name": "python",
   "nbconvert_exporter": "python",
   "pygments_lexer": "ipython3",
   "version": "3.13.2"
  }
 },
 "nbformat": 4,
 "nbformat_minor": 5
}
